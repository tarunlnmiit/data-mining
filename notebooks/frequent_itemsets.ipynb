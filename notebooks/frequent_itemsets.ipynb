{
 "cells": [
  {
   "cell_type": "markdown",
   "metadata": {},
   "source": [
    "## Table of Item Counts\n",
    "\n",
    "![fi1](img/fi1.png)\n",
    "\n",
    "## Frequent Itemset Generation\n",
    "\n",
    "**Green itemsets: Generated & found to be frequent (supp >= minSup)**\n",
    "\n",
    "**Red itemsets: Generated & found to be infrequent (supp < minSup)**\n",
    "\n",
    "**Grey itemsets: Generated but pruned because one of its subsets was infrequent**\n",
    "\n",
    "![fi2](img/fi2.png)\n",
    "\n",
    "## Lattice\n",
    "\n",
    "![fi3](img/fi3.png)"
   ]
  },
  {
   "attachments": {},
   "cell_type": "markdown",
   "metadata": {},
   "source": [
    "### Total Possible Itemsets : 5C1 + 5C2+  5C3 + 5C4 + 5C5 +1 = 32\n",
    "\n",
    "### Percentage  of Frequent Itemsets: 15/32 = 0.4688 \n",
    "\n",
    "### Pruning Ratio (N Union P) / Total Item sets: 11/32 = 0.3438 \n",
    "\n",
    "### False Alarm Rate I / Total Item sets = 5/32 = 0.1563 \n",
    "\n",
    "### Num Closed Frequent: 10\n",
    "\n",
    "### Num Max Frequent: 6"
   ]
  },
  {
   "cell_type": "code",
   "execution_count": null,
   "metadata": {},
   "outputs": [],
   "source": []
  }
 ],
 "metadata": {
  "kernelspec": {
   "display_name": "Python 3",
   "language": "python",
   "name": "python3"
  },
  "language_info": {
   "codemirror_mode": {
    "name": "ipython",
    "version": 3
   },
   "file_extension": ".py",
   "mimetype": "text/x-python",
   "name": "python",
   "nbconvert_exporter": "python",
   "pygments_lexer": "ipython3",
   "version": "3.7.3"
  }
 },
 "nbformat": 4,
 "nbformat_minor": 2
}
