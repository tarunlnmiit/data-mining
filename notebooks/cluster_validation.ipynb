{
 "cells": [
  {
   "cell_type": "markdown",
   "metadata": {},
   "source": [
    "# Rand Index and Jaccard Coefficient"
   ]
  },
  {
   "cell_type": "markdown",
   "metadata": {},
   "source": [
    "Rand Index and Jaccard are external cluster validation measures to asses cluster quality. They use a series of decisions to produce a measure a number between 0 and 1 (higher values are better). Each pair of points is considered and a decision is made for each pair. Since we consider pairs of points, for a dataset with n points, the **total number of decisions is (n(n-1))/2.** Example: If there are 3 points x1, x2, x3, then the possible combinations are [x1, x2], [x1, x3], [x2, x3], which is (3(3-1))/2 = 3.\n",
    "\n",
    "The decisions are:\n",
    "1. Does this pair belong in the same cluster (same class labels)?\n",
    "2. Does this pair belong in separate clusters (different class labels)?\n",
    "\n",
    "Example:\n",
    "\n",
    "Class labels = {A: x1, x2, B: x3, x4}\n",
    "\n",
    "Cluster assignments = {X1: x1, x2, x3 X2: x4}\n",
    "\n",
    "To calculate the Rand Index for the above clustering result, we take each pair and check if the clustering decision is correct."
   ]
  },
  {
   "cell_type": "code",
   "execution_count": 2,
   "metadata": {},
   "outputs": [
    {
     "data": {
      "text/html": [
       "<div>\n",
       "<style scoped>\n",
       "    .dataframe tbody tr th:only-of-type {\n",
       "        vertical-align: middle;\n",
       "    }\n",
       "\n",
       "    .dataframe tbody tr th {\n",
       "        vertical-align: top;\n",
       "    }\n",
       "\n",
       "    .dataframe thead th {\n",
       "        text-align: right;\n",
       "    }\n",
       "</style>\n",
       "<table border=\"1\" class=\"dataframe\">\n",
       "  <thead>\n",
       "    <tr style=\"text-align: right;\">\n",
       "      <th></th>\n",
       "      <th>pairs</th>\n",
       "      <th>decision</th>\n",
       "    </tr>\n",
       "  </thead>\n",
       "  <tbody>\n",
       "    <tr>\n",
       "      <th>0</th>\n",
       "      <td>x1, x2</td>\n",
       "      <td>clustered together?</td>\n",
       "    </tr>\n",
       "    <tr>\n",
       "      <th>1</th>\n",
       "      <td>x1, x3</td>\n",
       "      <td>clustered separate?</td>\n",
       "    </tr>\n",
       "    <tr>\n",
       "      <th>2</th>\n",
       "      <td>x1, x4</td>\n",
       "      <td>clustered separate?</td>\n",
       "    </tr>\n",
       "    <tr>\n",
       "      <th>3</th>\n",
       "      <td>x2, x3</td>\n",
       "      <td>clustered separate?</td>\n",
       "    </tr>\n",
       "    <tr>\n",
       "      <th>4</th>\n",
       "      <td>x2, x4</td>\n",
       "      <td>clustered separate?</td>\n",
       "    </tr>\n",
       "    <tr>\n",
       "      <th>5</th>\n",
       "      <td>x3, x4</td>\n",
       "      <td>clustered together?</td>\n",
       "    </tr>\n",
       "  </tbody>\n",
       "</table>\n",
       "</div>"
      ],
      "text/plain": [
       "    pairs             decision\n",
       "0  x1, x2  clustered together?\n",
       "1  x1, x3  clustered separate?\n",
       "2  x1, x4  clustered separate?\n",
       "3  x2, x3  clustered separate?\n",
       "4  x2, x4  clustered separate?\n",
       "5  x3, x4  clustered together?"
      ]
     },
     "execution_count": 2,
     "metadata": {},
     "output_type": "execute_result"
    }
   ],
   "source": [
    "import pandas as pd\n",
    "\n",
    "df = {'pairs': ['x1, x2', 'x1, x3', 'x1, x4', 'x2, x3', 'x2, x4', 'x3, x4'],\n",
    "     'decision': ['clustered together?', 'clustered separate?', 'clustered separate?', 'clustered separate?', 'clustered separate?', 'clustered together?']}\n",
    "df = pd.DataFrame(df)\n",
    "df"
   ]
  },
  {
   "cell_type": "markdown",
   "metadata": {},
   "source": [
    "The decisions are based on the class labels. Example: [x1 x2] have the same class label, so they belong together, which means we check if the clustering algorithm placed them together in the same cluster. For [x1 x3], they have different labels, so they belong in different clusters, which means we check if the algorithm placed them in different clusters.\n",
    "\n",
    "The following are the situations that can happen: \n",
    "\n",
    "**True Positive:** A pair of points have been clustered together, and they have the same class label (they belong together).\n",
    "\n",
    "**True Negative:** A pair of points have been clustered separately, and they have different class labels (they belong in different clusters).\n",
    "\n",
    "**False Positive:** A pair of points have been clustered together, but they have different class labels (they belong in different clusters).\n",
    "\n",
    "**False Negative:** A pair of points have been clustered separately, but they have the same class label (they belong together)."
   ]
  },
  {
   "cell_type": "code",
   "execution_count": 3,
   "metadata": {},
   "outputs": [
    {
     "data": {
      "text/html": [
       "<div>\n",
       "<style scoped>\n",
       "    .dataframe tbody tr th:only-of-type {\n",
       "        vertical-align: middle;\n",
       "    }\n",
       "\n",
       "    .dataframe tbody tr th {\n",
       "        vertical-align: top;\n",
       "    }\n",
       "\n",
       "    .dataframe thead th {\n",
       "        text-align: right;\n",
       "    }\n",
       "</style>\n",
       "<table border=\"1\" class=\"dataframe\">\n",
       "  <thead>\n",
       "    <tr style=\"text-align: right;\">\n",
       "      <th></th>\n",
       "      <th>pairs</th>\n",
       "      <th>decision</th>\n",
       "      <th>result</th>\n",
       "    </tr>\n",
       "  </thead>\n",
       "  <tbody>\n",
       "    <tr>\n",
       "      <th>0</th>\n",
       "      <td>x1, x2</td>\n",
       "      <td>clustered together?</td>\n",
       "      <td>TP</td>\n",
       "    </tr>\n",
       "    <tr>\n",
       "      <th>1</th>\n",
       "      <td>x1, x3</td>\n",
       "      <td>clustered separate?</td>\n",
       "      <td>FP</td>\n",
       "    </tr>\n",
       "    <tr>\n",
       "      <th>2</th>\n",
       "      <td>x1, x4</td>\n",
       "      <td>clustered separate?</td>\n",
       "      <td>TN</td>\n",
       "    </tr>\n",
       "    <tr>\n",
       "      <th>3</th>\n",
       "      <td>x2, x3</td>\n",
       "      <td>clustered separate?</td>\n",
       "      <td>FP</td>\n",
       "    </tr>\n",
       "    <tr>\n",
       "      <th>4</th>\n",
       "      <td>x2, x4</td>\n",
       "      <td>clustered separate?</td>\n",
       "      <td>TN</td>\n",
       "    </tr>\n",
       "    <tr>\n",
       "      <th>5</th>\n",
       "      <td>x3, x4</td>\n",
       "      <td>clustered together?</td>\n",
       "      <td>FN</td>\n",
       "    </tr>\n",
       "  </tbody>\n",
       "</table>\n",
       "</div>"
      ],
      "text/plain": [
       "    pairs             decision result\n",
       "0  x1, x2  clustered together?     TP\n",
       "1  x1, x3  clustered separate?     FP\n",
       "2  x1, x4  clustered separate?     TN\n",
       "3  x2, x3  clustered separate?     FP\n",
       "4  x2, x4  clustered separate?     TN\n",
       "5  x3, x4  clustered together?     FN"
      ]
     },
     "execution_count": 3,
     "metadata": {},
     "output_type": "execute_result"
    }
   ],
   "source": [
    "df = pd.concat([df, pd.Series(['TP', 'FP', 'TN', 'FP', 'TN', 'FN']).rename('result')], axis=1)\n",
    "df"
   ]
  },
  {
   "cell_type": "markdown",
   "metadata": {},
   "source": [
    "### Rand Index = (TP + TN) / (TP + TN + FP + FN) = 3/6 = 0.5\n",
    "### Jaccard = TP / (TP + FP + FN) = 1/4 = 0.25"
   ]
  },
  {
   "cell_type": "code",
   "execution_count": null,
   "metadata": {},
   "outputs": [],
   "source": []
  },
  {
   "cell_type": "markdown",
   "metadata": {},
   "source": [
    "**Given are 15 instances {x1, . . . , x15} and three classes {A, B, C}**\n",
    "\n",
    "**The class assignment is as follows: A : {x1, x2, x3, x4, x5}, B : {x6, x7, x8, x9, x10}, C : {x11, x12, x13, x14, x15}.**\n",
    "\n",
    "**Executing K-Means with (a) K = 3 and (b) K = 5 results in the two (imperfect) clusterings Z1 and Z2:**\n",
    "\n",
    "**Z1:**\n",
    "\n",
    "**X1 = {x1, x2, x3}**\n",
    "\n",
    "**X2 = {x5, x6, x7, x9, x10, x15}**\n",
    "\n",
    "**X3 = {x4, x8, x11, x12, x13, x14}**\n",
    "\n",
    "**Z2:**\n",
    "\n",
    "**X1 = {x1, x2, x3}**\n",
    "\n",
    "**X2 = {x5, x6, x7}**\n",
    "\n",
    "**X3 = {x9, x10, x15}**\n",
    "\n",
    "**X4 = {x8, x11, x12}**\n",
    "\n",
    "**X5 = {x4, x13, x14}**\n",
    "\n",
    "**Compute the Rand Index and Jaccard Coefficient of both clusterings**"
   ]
  },
  {
   "cell_type": "markdown",
   "metadata": {},
   "source": [
    "This time we have 15 points instead of 4, the total number of decisions will be (15(15-1))/2 = 105, which is impossible to calculate by hand, and in most situations, there will be many more points. If we have 100,000 points, the total number of decisions will be close to 5 billion, which is impossible even for a computer. \n",
    "\n",
    "There is a faster method of calculating RI and Jaccard, which uses [combinations](https://www.mathsisfun.com/combinatorics/combinations-permutations.html) "
   ]
  },
  {
   "cell_type": "markdown",
   "metadata": {},
   "source": [
    "## Combinatorial method:\n",
    "\n",
    "We will use combinations and fill a confusion matrix to calculate RI and Jaccard"
   ]
  },
  {
   "cell_type": "code",
   "execution_count": 16,
   "metadata": {},
   "outputs": [
    {
     "data": {
      "text/html": [
       "<div>\n",
       "<style scoped>\n",
       "    .dataframe tbody tr th:only-of-type {\n",
       "        vertical-align: middle;\n",
       "    }\n",
       "\n",
       "    .dataframe tbody tr th {\n",
       "        vertical-align: top;\n",
       "    }\n",
       "\n",
       "    .dataframe thead th {\n",
       "        text-align: right;\n",
       "    }\n",
       "</style>\n",
       "<table border=\"1\" class=\"dataframe\">\n",
       "  <thead>\n",
       "    <tr style=\"text-align: right;\">\n",
       "      <th></th>\n",
       "      <th>Same Cluster</th>\n",
       "      <th>Different Cluster</th>\n",
       "      <th>.</th>\n",
       "    </tr>\n",
       "    <tr>\n",
       "      <th>-</th>\n",
       "      <th></th>\n",
       "      <th></th>\n",
       "      <th></th>\n",
       "    </tr>\n",
       "  </thead>\n",
       "  <tbody>\n",
       "    <tr>\n",
       "      <th>Same Class</th>\n",
       "      <td>TP</td>\n",
       "      <td>FN</td>\n",
       "      <td>?</td>\n",
       "    </tr>\n",
       "    <tr>\n",
       "      <th>Different Class</th>\n",
       "      <td>FP</td>\n",
       "      <td>TN</td>\n",
       "      <td>?</td>\n",
       "    </tr>\n",
       "    <tr>\n",
       "      <th>.</th>\n",
       "      <td>?</td>\n",
       "      <td>?</td>\n",
       "      <td>?</td>\n",
       "    </tr>\n",
       "  </tbody>\n",
       "</table>\n",
       "</div>"
      ],
      "text/plain": [
       "                Same Cluster Different Cluster  .\n",
       "-                                                \n",
       "Same Class                TP                FN  ?\n",
       "Different Class           FP                TN  ?\n",
       ".                          ?                 ?  ?"
      ]
     },
     "execution_count": 16,
     "metadata": {},
     "output_type": "execute_result"
    }
   ],
   "source": [
    "d = {'Same Cluster': ['TP', 'FP', '?'], 'Different Cluster': ['FN', 'TN', '?'], '-': ['Same Class', 'Different Class', '.'],\n",
    "    '.': ['?', '?', '?']}\n",
    "cf = pd.DataFrame(d).set_index('-')\n",
    "cf"
   ]
  },
  {
   "cell_type": "markdown",
   "metadata": {},
   "source": [
    "Steps:\n",
    "\n",
    "1. Calculate the total number of decisions to make\n",
    "2. Pick pairs of points where both points in a pair are from the same cluster (TP + FP)\n",
    "3. Pick pairs of points where both points in a pair are from the same class (TP + FN)\n",
    "4. Pick pairs of points where both points in a pair are from the same class AND the same cluster (TP)\n",
    "5. Fill the rest of the confusion matrix to be able to calculate RI and Jaccard\n"
   ]
  },
  {
   "cell_type": "markdown",
   "metadata": {},
   "source": [
    "#### Step 1\n",
    "\n",
    "**Since there are 15 points, the toal number of pairs will be 15C2 = 105**\n",
    "\n",
    "So there will be 105 decisions in total"
   ]
  },
  {
   "cell_type": "code",
   "execution_count": 23,
   "metadata": {},
   "outputs": [
    {
     "data": {
      "text/html": [
       "<div>\n",
       "<style scoped>\n",
       "    .dataframe tbody tr th:only-of-type {\n",
       "        vertical-align: middle;\n",
       "    }\n",
       "\n",
       "    .dataframe tbody tr th {\n",
       "        vertical-align: top;\n",
       "    }\n",
       "\n",
       "    .dataframe thead th {\n",
       "        text-align: right;\n",
       "    }\n",
       "</style>\n",
       "<table border=\"1\" class=\"dataframe\">\n",
       "  <thead>\n",
       "    <tr style=\"text-align: right;\">\n",
       "      <th></th>\n",
       "      <th>Same Cluster</th>\n",
       "      <th>Different Cluster</th>\n",
       "      <th>.</th>\n",
       "    </tr>\n",
       "    <tr>\n",
       "      <th>-</th>\n",
       "      <th></th>\n",
       "      <th></th>\n",
       "      <th></th>\n",
       "    </tr>\n",
       "  </thead>\n",
       "  <tbody>\n",
       "    <tr>\n",
       "      <th>Same Class</th>\n",
       "      <td>TP</td>\n",
       "      <td>FN</td>\n",
       "      <td>?</td>\n",
       "    </tr>\n",
       "    <tr>\n",
       "      <th>Different Class</th>\n",
       "      <td>FP</td>\n",
       "      <td>TN</td>\n",
       "      <td>?</td>\n",
       "    </tr>\n",
       "    <tr>\n",
       "      <th>.</th>\n",
       "      <td>?</td>\n",
       "      <td>?</td>\n",
       "      <td>105</td>\n",
       "    </tr>\n",
       "  </tbody>\n",
       "</table>\n",
       "</div>"
      ],
      "text/plain": [
       "                Same Cluster Different Cluster    .\n",
       "-                                                  \n",
       "Same Class                TP                FN    ?\n",
       "Different Class           FP                TN    ?\n",
       ".                          ?                 ?  105"
      ]
     },
     "execution_count": 23,
     "metadata": {},
     "output_type": "execute_result"
    }
   ],
   "source": [
    "d = {'Same Cluster': ['TP', 'FP', '?'], 'Different Cluster': ['FN', 'TN', '?'], '-': ['Same Class', 'Different Class', '.'],\n",
    "    '.': ['?', '?', 105]}\n",
    "cf = pd.DataFrame(d).set_index('-')\n",
    "cf"
   ]
  },
  {
   "cell_type": "markdown",
   "metadata": {},
   "source": [
    "#### Step 2\n",
    "\n",
    "**To pick pairs of points where both points in a pair are in the same cluster, we pick pairs from the cluster assignments X1, X2, and X3.**\n",
    "\n",
    "**Since X1 has 3 points, X2 has 6 points, and X3 has 6 points, the total number of pairs will be 3C2 + 6C2 + 6C2**\n",
    "\n",
    "**True Positives + False Positives = 3C2 + 6C2 + 6C2 = 33**\n",
    "\n",
    "The reason this equals TP + FP is as follows: We are only picking pairs from the same cluster; i.e. we are never picking a point from X1 and another from X2. If one point is from X1, the other point in the pair is also from X1, not X2 or X3. Since we are picking pairs that are clustered together, we are inline with the first part of the definition of True Positives (**pair clustered together** and have the same label). The second part of the definition says that they should have the same label to be called a TP. Now some of the pairs that we pick will have the same label, which means they will be True Positives, while some of the pairs will have different labels, which corresponds to the definition of False Positives (pair clustered together but belong separately, i.e. different labels). So this process of picking pairs of points from the cluster assignment gives us TP + FP"
   ]
  },
  {
   "cell_type": "code",
   "execution_count": 25,
   "metadata": {},
   "outputs": [
    {
     "data": {
      "text/html": [
       "<div>\n",
       "<style scoped>\n",
       "    .dataframe tbody tr th:only-of-type {\n",
       "        vertical-align: middle;\n",
       "    }\n",
       "\n",
       "    .dataframe tbody tr th {\n",
       "        vertical-align: top;\n",
       "    }\n",
       "\n",
       "    .dataframe thead th {\n",
       "        text-align: right;\n",
       "    }\n",
       "</style>\n",
       "<table border=\"1\" class=\"dataframe\">\n",
       "  <thead>\n",
       "    <tr style=\"text-align: right;\">\n",
       "      <th></th>\n",
       "      <th>Same Cluster</th>\n",
       "      <th>Different Cluster</th>\n",
       "      <th>.</th>\n",
       "    </tr>\n",
       "    <tr>\n",
       "      <th>-</th>\n",
       "      <th></th>\n",
       "      <th></th>\n",
       "      <th></th>\n",
       "    </tr>\n",
       "  </thead>\n",
       "  <tbody>\n",
       "    <tr>\n",
       "      <th>Same Class</th>\n",
       "      <td>TP</td>\n",
       "      <td>FN</td>\n",
       "      <td>?</td>\n",
       "    </tr>\n",
       "    <tr>\n",
       "      <th>Different Class</th>\n",
       "      <td>FP</td>\n",
       "      <td>TN</td>\n",
       "      <td>?</td>\n",
       "    </tr>\n",
       "    <tr>\n",
       "      <th>.</th>\n",
       "      <td>33</td>\n",
       "      <td>?</td>\n",
       "      <td>105</td>\n",
       "    </tr>\n",
       "  </tbody>\n",
       "</table>\n",
       "</div>"
      ],
      "text/plain": [
       "                Same Cluster Different Cluster    .\n",
       "-                                                  \n",
       "Same Class                TP                FN    ?\n",
       "Different Class           FP                TN    ?\n",
       ".                         33                 ?  105"
      ]
     },
     "execution_count": 25,
     "metadata": {},
     "output_type": "execute_result"
    }
   ],
   "source": [
    "d = {'Same Cluster': ['TP', 'FP', 33], 'Different Cluster': ['FN', 'TN', '?'], '-': ['Same Class', 'Different Class', '.'],\n",
    "    '.': ['?', '?', 105]}\n",
    "cf = pd.DataFrame(d).set_index('-')\n",
    "cf"
   ]
  },
  {
   "cell_type": "markdown",
   "metadata": {},
   "source": [
    "#### Step 3\n",
    "\n",
    "**To pick pairs of points where both points in a pair are in the same class, we pick pairs from the class labels A, B, and C.**\n",
    "\n",
    "**Since A, B, and C have 5 points each, the total number of pairs will be 5C2 + 5C2 + 5C2**\n",
    "\n",
    "**True Positives + False Negatives = 5C2 + 5C2 + 5C2 = 30**\n",
    "\n",
    "The reason this equals TP + FN is as follows: We are only picking pairs from the same class; i.e. we are never picking a point from class A and another from B. If one point is from A, the other point in the pair is also from A, not B or C. Since we are picking pairs that have the same label, we are inline with the second part of the definition of True Positives (pair clustered together and **have the same label**). The second part of the definition says that they should be in the same cluster to be called a TP. Now some of the pairs that we pick will be in the same cluster, which means they will be True Positives, while some of the pairs will be in different clusters, which corresponds to the definition of False Negatives (pair clustered separately but belong together, i.e. same label). So this process of picking pairs of points from the class labels gives us TP + FN"
   ]
  },
  {
   "cell_type": "code",
   "execution_count": 26,
   "metadata": {},
   "outputs": [
    {
     "data": {
      "text/html": [
       "<div>\n",
       "<style scoped>\n",
       "    .dataframe tbody tr th:only-of-type {\n",
       "        vertical-align: middle;\n",
       "    }\n",
       "\n",
       "    .dataframe tbody tr th {\n",
       "        vertical-align: top;\n",
       "    }\n",
       "\n",
       "    .dataframe thead th {\n",
       "        text-align: right;\n",
       "    }\n",
       "</style>\n",
       "<table border=\"1\" class=\"dataframe\">\n",
       "  <thead>\n",
       "    <tr style=\"text-align: right;\">\n",
       "      <th></th>\n",
       "      <th>Same Cluster</th>\n",
       "      <th>Different Cluster</th>\n",
       "      <th>.</th>\n",
       "    </tr>\n",
       "    <tr>\n",
       "      <th>-</th>\n",
       "      <th></th>\n",
       "      <th></th>\n",
       "      <th></th>\n",
       "    </tr>\n",
       "  </thead>\n",
       "  <tbody>\n",
       "    <tr>\n",
       "      <th>Same Class</th>\n",
       "      <td>TP</td>\n",
       "      <td>FN</td>\n",
       "      <td>30</td>\n",
       "    </tr>\n",
       "    <tr>\n",
       "      <th>Different Class</th>\n",
       "      <td>FP</td>\n",
       "      <td>TN</td>\n",
       "      <td>?</td>\n",
       "    </tr>\n",
       "    <tr>\n",
       "      <th>.</th>\n",
       "      <td>33</td>\n",
       "      <td>?</td>\n",
       "      <td>105</td>\n",
       "    </tr>\n",
       "  </tbody>\n",
       "</table>\n",
       "</div>"
      ],
      "text/plain": [
       "                Same Cluster Different Cluster    .\n",
       "-                                                  \n",
       "Same Class                TP                FN   30\n",
       "Different Class           FP                TN    ?\n",
       ".                         33                 ?  105"
      ]
     },
     "execution_count": 26,
     "metadata": {},
     "output_type": "execute_result"
    }
   ],
   "source": [
    "d = {'Same Cluster': ['TP', 'FP', 33], 'Different Cluster': ['FN', 'TN', '?'], '-': ['Same Class', 'Different Class', '.'],\n",
    "    '.': [30, '?', 105]}\n",
    "cf = pd.DataFrame(d).set_index('-')\n",
    "cf"
   ]
  },
  {
   "cell_type": "markdown",
   "metadata": {},
   "source": [
    "#### Step 3\n",
    "\n",
    "**To pick pairs of points where both points in a pair are in the same class and also clustered together (Example: x1 and x2 are from class A and are in cluster X1), we will pick pairs of points from each cluster, but both points in the pairs must have the same class label. These are the class labels in the cluster assignments:**\n",
    "\n",
    "X1 = {A A A}\n",
    "\n",
    "X2 = {A B B B B C}\n",
    "\n",
    "X3 = {A B C C C C}\n",
    "\n",
    "For X1, the three points from class A will make 3C2 pairs\n",
    "\n",
    "For X2, the 4 points from class B will make 4C2 pairs\n",
    "\n",
    "For X3, the 4 points from class C will make 4C2 pairs\n",
    "\n",
    "**So, True Positives = 3C2 + 4C2 + 4C2 = 15**"
   ]
  },
  {
   "cell_type": "code",
   "execution_count": 30,
   "metadata": {},
   "outputs": [
    {
     "data": {
      "text/html": [
       "<div>\n",
       "<style scoped>\n",
       "    .dataframe tbody tr th:only-of-type {\n",
       "        vertical-align: middle;\n",
       "    }\n",
       "\n",
       "    .dataframe tbody tr th {\n",
       "        vertical-align: top;\n",
       "    }\n",
       "\n",
       "    .dataframe thead th {\n",
       "        text-align: right;\n",
       "    }\n",
       "</style>\n",
       "<table border=\"1\" class=\"dataframe\">\n",
       "  <thead>\n",
       "    <tr style=\"text-align: right;\">\n",
       "      <th></th>\n",
       "      <th>Same Cluster</th>\n",
       "      <th>Different Cluster</th>\n",
       "      <th>.</th>\n",
       "    </tr>\n",
       "    <tr>\n",
       "      <th>-</th>\n",
       "      <th></th>\n",
       "      <th></th>\n",
       "      <th></th>\n",
       "    </tr>\n",
       "  </thead>\n",
       "  <tbody>\n",
       "    <tr>\n",
       "      <th>Same Class</th>\n",
       "      <td>15</td>\n",
       "      <td>15</td>\n",
       "      <td>30</td>\n",
       "    </tr>\n",
       "    <tr>\n",
       "      <th>Different Class</th>\n",
       "      <td>18</td>\n",
       "      <td>57</td>\n",
       "      <td>?</td>\n",
       "    </tr>\n",
       "    <tr>\n",
       "      <th>.</th>\n",
       "      <td>33</td>\n",
       "      <td>?</td>\n",
       "      <td>105</td>\n",
       "    </tr>\n",
       "  </tbody>\n",
       "</table>\n",
       "</div>"
      ],
      "text/plain": [
       "                 Same Cluster Different Cluster    .\n",
       "-                                                   \n",
       "Same Class                 15                15   30\n",
       "Different Class            18                57    ?\n",
       ".                          33                 ?  105"
      ]
     },
     "execution_count": 30,
     "metadata": {},
     "output_type": "execute_result"
    }
   ],
   "source": [
    "d = {'Same Cluster': [15, 18, 33], 'Different Cluster': [15, 57, '?'], '-': ['Same Class', 'Different Class', '.'],\n",
    "    '.': [30, '?', 105]}\n",
    "cf = pd.DataFrame(d).set_index('-')\n",
    "cf"
   ]
  },
  {
   "cell_type": "markdown",
   "metadata": {},
   "source": [
    "### Rand Index = (TP + TN) / (TP + TN + FP + FN) = (15 + 57) / (15+57+15+18) = 0.686\n",
    "### Jaccard = TP / (TP + FP + FN) = 15 / (15 + 18 + 15) = 0.313"
   ]
  },
  {
   "cell_type": "code",
   "execution_count": null,
   "metadata": {},
   "outputs": [],
   "source": []
  }
 ],
 "metadata": {
  "kernelspec": {
   "display_name": "Python 3",
   "language": "python",
   "name": "python3"
  },
  "language_info": {
   "codemirror_mode": {
    "name": "ipython",
    "version": 3
   },
   "file_extension": ".py",
   "mimetype": "text/x-python",
   "name": "python",
   "nbconvert_exporter": "python",
   "pygments_lexer": "ipython3",
   "version": "3.7.3"
  }
 },
 "nbformat": 4,
 "nbformat_minor": 2
}
